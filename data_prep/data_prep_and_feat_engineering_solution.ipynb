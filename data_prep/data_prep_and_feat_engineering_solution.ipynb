{
 "cells": [
  {
   "cell_type": "markdown",
   "metadata": {},
   "source": [
    "# Data Preparation\n",
    "\n",
    "During today and following days, we will have a set of exercises about the data with UFO sightings around the world. At the end, we will create a machine learning model that will predict how long we can see the UFO based on the characteristics of a sighting.\n",
    "\n",
    "Now, in this file, we are going to focus on data preparation. Try to replicate the steps from the tutorial, become familiar with the information and variables in the data and prepare it for the next phase, feature engineering.\n",
    "\n",
    "You can download the data from [**here**](https://drive.google.com/open?id=0B2gZvn36c5CmRTJpS3pkUllmX1U)."
   ]
  },
  {
   "cell_type": "code",
   "execution_count": null,
   "metadata": {
    "ExecuteTime": {
     "end_time": "2020-08-06T11:46:00.674290Z",
     "start_time": "2020-08-06T11:45:58.890120Z"
    }
   },
   "outputs": [],
   "source": [
    "import pandas as pd\n",
    "import numpy as np\n",
    "\n",
    "import matplotlib.pyplot as plt\n",
    "import seaborn as sns"
   ]
  },
  {
   "cell_type": "code",
   "execution_count": null,
   "metadata": {
    "ExecuteTime": {
     "end_time": "2020-08-06T11:46:01.447050Z",
     "start_time": "2020-08-06T11:46:00.677572Z"
    }
   },
   "outputs": [],
   "source": [
    "df = pd.read_csv('/Users/jurajkapasny/Downloads/UFO_data.csv',sep=';')"
   ]
  },
  {
   "cell_type": "markdown",
   "metadata": {},
   "source": [
    "## Exercise"
   ]
  },
  {
   "cell_type": "code",
   "execution_count": null,
   "metadata": {},
   "outputs": [],
   "source": [
    "df.head()"
   ]
  },
  {
   "cell_type": "code",
   "execution_count": null,
   "metadata": {
    "ExecuteTime": {
     "end_time": "2020-08-06T11:46:01.488306Z",
     "start_time": "2020-08-06T11:46:01.454290Z"
    }
   },
   "outputs": [],
   "source": [
    "# shape\n",
    "print(df.shape)"
   ]
  },
  {
   "cell_type": "code",
   "execution_count": null,
   "metadata": {
    "ExecuteTime": {
     "end_time": "2020-08-06T11:46:01.517738Z",
     "start_time": "2020-08-06T11:46:01.493727Z"
    }
   },
   "outputs": [],
   "source": [
    "# datatypes\n",
    "print(df.dtypes)"
   ]
  },
  {
   "cell_type": "code",
   "execution_count": null,
   "metadata": {},
   "outputs": [],
   "source": [
    "numeric_columns = df.dtypes[df.dtypes == \"float\"].index.tolist()"
   ]
  },
  {
   "cell_type": "code",
   "execution_count": null,
   "metadata": {},
   "outputs": [],
   "source": []
  },
  {
   "cell_type": "code",
   "execution_count": null,
   "metadata": {
    "ExecuteTime": {
     "end_time": "2020-08-06T11:46:01.611329Z",
     "start_time": "2020-08-06T11:46:01.530181Z"
    }
   },
   "outputs": [],
   "source": [
    "# drop useless column\n",
    "df.drop('Unnamed: 0', axis =1, inplace=True)"
   ]
  },
  {
   "cell_type": "code",
   "execution_count": null,
   "metadata": {
    "ExecuteTime": {
     "end_time": "2020-08-06T11:46:02.044425Z",
     "start_time": "2020-08-06T11:46:01.618558Z"
    }
   },
   "outputs": [],
   "source": [
    "# check missing values\n",
    "total = df.isnull().sum().sort_values(ascending=False)\n",
    "percent = (df.isnull().sum()/df.isnull().count()).sort_values(ascending=False)\n",
    "missing_data = pd.concat([total, percent], axis=1, keys=['Total', 'Percent'])\n",
    "missing_data.head(20)"
   ]
  },
  {
   "cell_type": "code",
   "execution_count": null,
   "metadata": {
    "ExecuteTime": {
     "end_time": "2020-08-06T11:46:02.101151Z",
     "start_time": "2020-08-06T11:46:02.052212Z"
    }
   },
   "outputs": [],
   "source": [
    "# drop columns with many nans\n",
    "drop_columns = missing_data[missing_data['Percent'] > 0.8].index.tolist()\n",
    "df.drop(drop_columns, axis=1, inplace=True)"
   ]
  },
  {
   "cell_type": "code",
   "execution_count": null,
   "metadata": {
    "ExecuteTime": {
     "end_time": "2020-08-06T11:46:02.134333Z",
     "start_time": "2020-08-06T11:46:02.117105Z"
    }
   },
   "outputs": [],
   "source": [
    "# fill nan with mean\n",
    "df['pressure'].fillna(df['pressure'].mean(), inplace=True)\n",
    "# fill nan with median\n",
    "df['apparentTemperature'].fillna(df['apparentTemperature'].median(), inplace=True)"
   ]
  },
  {
   "cell_type": "code",
   "execution_count": null,
   "metadata": {
    "ExecuteTime": {
     "end_time": "2020-08-06T11:46:02.176992Z",
     "start_time": "2020-08-06T11:46:02.148921Z"
    }
   },
   "outputs": [],
   "source": [
    "# fill nan with text (categorical variable)\n",
    "df['summary'].fillna('Not available', inplace= True)"
   ]
  },
  {
   "cell_type": "code",
   "execution_count": null,
   "metadata": {
    "ExecuteTime": {
     "end_time": "2020-08-06T11:46:02.216150Z",
     "start_time": "2020-08-06T11:46:02.182296Z"
    }
   },
   "outputs": [],
   "source": [
    "# descriptive statistics\n",
    "df['duration_seconds'].describe()"
   ]
  },
  {
   "cell_type": "code",
   "execution_count": null,
   "metadata": {
    "ExecuteTime": {
     "end_time": "2020-08-06T11:46:02.800737Z",
     "start_time": "2020-08-06T11:46:02.232169Z"
    }
   },
   "outputs": [],
   "source": [
    "# histogram\n",
    "plt.figure(figsize=(16, 6))\n",
    "sns.distplot(df['duration_seconds'])\n",
    "plt.show()"
   ]
  },
  {
   "cell_type": "code",
   "execution_count": null,
   "metadata": {
    "ExecuteTime": {
     "end_time": "2020-08-06T11:46:03.283307Z",
     "start_time": "2020-08-06T11:46:02.805038Z"
    }
   },
   "outputs": [],
   "source": [
    "# histogram (withou extreme values)\n",
    "plt.figure(figsize=(16, 6))\n",
    "sns.distplot(df[df['duration_seconds'].between(df['duration_seconds'].quantile(0.1),\n",
    "                                               df['duration_seconds'].quantile(0.9))]['duration_seconds'])\n",
    "plt.show()"
   ]
  },
  {
   "cell_type": "code",
   "execution_count": null,
   "metadata": {},
   "outputs": [],
   "source": []
  },
  {
   "cell_type": "code",
   "execution_count": null,
   "metadata": {
    "ExecuteTime": {
     "end_time": "2020-08-06T11:46:04.108023Z",
     "start_time": "2020-08-06T11:46:03.289846Z"
    }
   },
   "outputs": [],
   "source": [
    "#scatter plot cloudCover vs. duration_seconds\n",
    "fix,ax = plt.subplots(figsize=(16, 6))\n",
    "df_lim = df[df['duration_seconds'].between(df['duration_seconds'].quantile(0.0),\n",
    "                                               df['duration_seconds'].quantile(0.9))]\n",
    "ax.scatter(df_lim['precipIntensity'],df_lim['duration_seconds'])\n",
    "ax.set_xlabel('precipIntensity')\n",
    "ax.set_ylabel('duration')\n",
    "# ax.set_ylim((0,800000))\n",
    "plt.show()"
   ]
  },
  {
   "cell_type": "code",
   "execution_count": null,
   "metadata": {},
   "outputs": [],
   "source": [
    "#scatter plot cloudCover vs. duration_seconds\n",
    "fix,ax = plt.subplots(figsize=(16, 6))\n",
    "df_lim = df[df['duration_seconds'].between(df['duration_seconds'].quantile(0.0),\n",
    "                                               df['duration_seconds'].quantile(0.9))]\n",
    "ax.scatter(df_lim['cloudCover'],df_lim['duration_seconds'])\n",
    "ax.set_xlabel('cloudCover')\n",
    "ax.set_ylabel('duration')\n",
    "# ax.set_ylim((0,800000))\n",
    "plt.show()"
   ]
  },
  {
   "cell_type": "code",
   "execution_count": null,
   "metadata": {},
   "outputs": [],
   "source": []
  },
  {
   "cell_type": "code",
   "execution_count": null,
   "metadata": {},
   "outputs": [],
   "source": []
  },
  {
   "cell_type": "code",
   "execution_count": null,
   "metadata": {
    "ExecuteTime": {
     "end_time": "2020-08-06T11:46:04.415678Z",
     "start_time": "2020-08-06T11:46:04.116296Z"
    }
   },
   "outputs": [],
   "source": [
    "# categorical variable analysis\n",
    "# duration in seconds - country relationship \n",
    "fig, ax = plt.subplots(figsize=(14, 8))\n",
    "fig = sns.boxplot(x='country', y=\"duration_seconds\", data=df[df['duration_seconds'].between(df['duration_seconds'].quantile(0.1),\n",
    "                                                                                            df['duration_seconds'].quantile(0.9))])\n",
    "plt.show()"
   ]
  },
  {
   "cell_type": "code",
   "execution_count": null,
   "metadata": {},
   "outputs": [],
   "source": []
  },
  {
   "cell_type": "code",
   "execution_count": null,
   "metadata": {},
   "outputs": [],
   "source": [
    "# categorical variable analysis\n",
    "# duration in seconds - state relationship \n",
    "fig, ax = plt.subplots(figsize=(14, 8))\n",
    "fig = sns.boxplot(x='state', y=\"duration_seconds\", data=df[df['duration_seconds'].between(df['duration_seconds'].quantile(0.1),\n",
    "                                                                                            df['duration_seconds'].quantile(0.9))])\n",
    "plt.show()"
   ]
  },
  {
   "cell_type": "code",
   "execution_count": null,
   "metadata": {},
   "outputs": [],
   "source": [
    "# categorical variable analysis\n",
    "# duration in seconds - shape\n",
    "fig, ax = plt.subplots(figsize=(18, 8))\n",
    "fig = sns.boxplot(x='shape', y=\"duration_seconds\", data=df[df['duration_seconds'].between(df['duration_seconds'].quantile(0.1),\n",
    "                                                                                            df['duration_seconds'].quantile(0.9))])\n",
    "plt.show()"
   ]
  },
  {
   "cell_type": "code",
   "execution_count": null,
   "metadata": {},
   "outputs": [],
   "source": []
  },
  {
   "cell_type": "code",
   "execution_count": null,
   "metadata": {},
   "outputs": [],
   "source": []
  },
  {
   "cell_type": "code",
   "execution_count": null,
   "metadata": {
    "ExecuteTime": {
     "end_time": "2020-08-06T11:46:04.978058Z",
     "start_time": "2020-08-06T11:46:04.418294Z"
    }
   },
   "outputs": [],
   "source": [
    "# correlation between numeric variables\n",
    "corrmat = df.corr()\n",
    "f, ax = plt.subplots(figsize=(12, 9))\n",
    "sns.heatmap(corrmat, vmax=.8, square=True,cmap=\"RdYlGn_r\")\n",
    "plt.show()"
   ]
  },
  {
   "cell_type": "code",
   "execution_count": null,
   "metadata": {
    "ExecuteTime": {
     "end_time": "2020-08-06T11:46:05.246935Z",
     "start_time": "2020-08-06T11:46:04.981148Z"
    }
   },
   "outputs": [],
   "source": [
    "# correlation with duration_seconds\n",
    "corrmat = df.corr()"
   ]
  },
  {
   "cell_type": "code",
   "execution_count": null,
   "metadata": {},
   "outputs": [],
   "source": [
    "corrmat[[\"duration_seconds\"]].sort_values(\"duration_seconds\").head()"
   ]
  },
  {
   "cell_type": "code",
   "execution_count": null,
   "metadata": {},
   "outputs": [],
   "source": []
  },
  {
   "cell_type": "code",
   "execution_count": null,
   "metadata": {},
   "outputs": [],
   "source": [
    "# Variable transformation"
   ]
  },
  {
   "cell_type": "code",
   "execution_count": null,
   "metadata": {},
   "outputs": [],
   "source": [
    "cols = [\"dewPoint\",'humidity',\"temperature\",\"windSpeed\"]\n",
    "for cl in cols:\n",
    "    # histogram (withou extreme values)\n",
    "    plt.figure(figsize=(16, 6))\n",
    "    sns.distplot(df[cl])\n",
    "    plt.show()"
   ]
  },
  {
   "cell_type": "code",
   "execution_count": null,
   "metadata": {},
   "outputs": [],
   "source": [
    "df[\"windSpeed_log\"] = df[\"windSpeed\"].apply(np.log)\n",
    "df[\"humidity_2\"] = df[\"humidity\"]*df[\"humidity\"]\n",
    "# we use square transformation to get rid of the left skewness in the variable. we need to shift the distribution to only positive numbers before.\n",
    "df[\"temperature_2\"] = ((df[\"temperature\"]+ df[\"temperature\"].min()+1)**2).apply(np.log)\n",
    "df[\"dewPoint_2\"] = ((df[\"dewPoint\"]+ df[\"dewPoint\"].min()+1) **2).apply(np.log)"
   ]
  },
  {
   "cell_type": "code",
   "execution_count": null,
   "metadata": {},
   "outputs": [],
   "source": []
  },
  {
   "cell_type": "markdown",
   "metadata": {},
   "source": [
    "# Feature Engineering\n",
    "\n",
    "Continue where you left during the data preparation exercise. Focus on the different techniques of feature engineering we read about today and try to come up with some features that could be relevant later on."
   ]
  },
  {
   "cell_type": "code",
   "execution_count": null,
   "metadata": {},
   "outputs": [],
   "source": [
    "# new time variables\n",
    "df[\"timestamp\"] = pd.to_datetime(df[\"timestamp\"])\n",
    "df[\"hour\"] = df[\"timestamp\"].dt.hour\n",
    "df[\"day_of_the_week\"] = df[\"timestamp\"].dt.dayofweek\n",
    "df[\"month\"] = df[\"timestamp\"].dt.month\n",
    "\n",
    "df[\"time_of_the_day\"] = \"night\"\n",
    "df.loc[df[\"hour\"].between(6,11), \"time_of_the_day\"] = \"morning\"\n",
    "df.loc[df[\"hour\"].between(12,17), \"time_of_the_day\"] = \"afternoon\"\n",
    "df.loc[df[\"hour\"].between(18,21), \"time_of_the_day\"] = \"evening\"\n",
    "\n",
    "df[\"season\"] = \"winter\"\n",
    "df.loc[df[\"month\"].between(3,5), \"season\"] = \"spring\"\n",
    "df.loc[df[\"month\"].between(6,8), \"season\"] = \"summer\"\n",
    "df.loc[df[\"month\"].between(9,11), \"season\"] = \"autumn\""
   ]
  },
  {
   "cell_type": "code",
   "execution_count": null,
   "metadata": {},
   "outputs": [],
   "source": []
  },
  {
   "cell_type": "code",
   "execution_count": null,
   "metadata": {},
   "outputs": [],
   "source": [
    "# polynomial expansion\n",
    "# we can apply polynomial expension which was mentioned during the day\n",
    "from sklearn.preprocessing import PolynomialFeatures\n",
    "\n",
    "# we will create polynomial of second order and use only two features\n",
    "poly = PolynomialFeatures(2)\n",
    "poly_data = poly.fit_transform(df[[\"apparentTemperature\",\"pressure\"]])"
   ]
  },
  {
   "cell_type": "code",
   "execution_count": null,
   "metadata": {},
   "outputs": [],
   "source": [
    "print(poly_data.shape)"
   ]
  },
  {
   "cell_type": "code",
   "execution_count": null,
   "metadata": {},
   "outputs": [],
   "source": [
    "# we generated 6 features, now back to pandas:\n",
    "df_poly_data = pd.DataFrame(poly_data)\n",
    "df_poly_data.columns = [\"poly_feat_\"+str(i) for i in range(poly_data.shape[1])]"
   ]
  },
  {
   "cell_type": "code",
   "execution_count": null,
   "metadata": {},
   "outputs": [],
   "source": [
    "df = df.merge(df_poly_data, left_index=True, right_index=True)"
   ]
  },
  {
   "cell_type": "code",
   "execution_count": null,
   "metadata": {},
   "outputs": [],
   "source": []
  },
  {
   "cell_type": "code",
   "execution_count": null,
   "metadata": {},
   "outputs": [],
   "source": [
    "# dummy variables\n",
    "df_dummy = pd.get_dummies(df[[\"country\",\"shape\"]])\n",
    "df_dummy.shape"
   ]
  },
  {
   "cell_type": "code",
   "execution_count": null,
   "metadata": {},
   "outputs": [],
   "source": []
  },
  {
   "cell_type": "code",
   "execution_count": null,
   "metadata": {},
   "outputs": [],
   "source": []
  }
 ],
 "metadata": {
  "kernelspec": {
   "display_name": "Python 3",
   "language": "python",
   "name": "python3"
  },
  "language_info": {
   "codemirror_mode": {
    "name": "ipython",
    "version": 3
   },
   "file_extension": ".py",
   "mimetype": "text/x-python",
   "name": "python",
   "nbconvert_exporter": "python",
   "pygments_lexer": "ipython3",
   "version": "3.7.6"
  },
  "toc": {
   "base_numbering": 1,
   "nav_menu": {},
   "number_sections": true,
   "sideBar": true,
   "skip_h1_title": false,
   "title_cell": "Table of Contents",
   "title_sidebar": "Contents",
   "toc_cell": false,
   "toc_position": {},
   "toc_section_display": true,
   "toc_window_display": false
  },
  "varInspector": {
   "cols": {
    "lenName": 16,
    "lenType": 16,
    "lenVar": 40
   },
   "kernels_config": {
    "python": {
     "delete_cmd_postfix": "",
     "delete_cmd_prefix": "del ",
     "library": "var_list.py",
     "varRefreshCmd": "print(var_dic_list())"
    },
    "r": {
     "delete_cmd_postfix": ") ",
     "delete_cmd_prefix": "rm(",
     "library": "var_list.r",
     "varRefreshCmd": "cat(var_dic_list()) "
    }
   },
   "types_to_exclude": [
    "module",
    "function",
    "builtin_function_or_method",
    "instance",
    "_Feature"
   ],
   "window_display": false
  }
 },
 "nbformat": 4,
 "nbformat_minor": 4
}
