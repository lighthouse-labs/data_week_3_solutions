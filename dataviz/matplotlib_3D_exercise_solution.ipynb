{
 "cells": [
  {
   "cell_type": "code",
   "execution_count": null,
   "metadata": {
    "ExecuteTime": {
     "end_time": "2020-08-05T13:54:36.196519Z",
     "start_time": "2020-08-05T13:54:35.932152Z"
    }
   },
   "outputs": [],
   "source": [
    "# import mplot3d\n",
    "from mpl_toolkits import mplot3d\n",
    "\n",
    "# import numpy\n",
    "import numpy as np\n",
    "\n",
    "# import matplotlib\n",
    "import matplotlib.pyplot as plt"
   ]
  },
  {
   "cell_type": "markdown",
   "metadata": {
    "ExecuteTime": {
     "end_time": "2020-02-12T18:22:53.342930Z",
     "start_time": "2020-02-12T18:22:53.340003Z"
    }
   },
   "source": [
    "* Create wireframe of hyperbolic paraboloid on the domain <-10,10>X<-10,10>\n",
    "* hyperbolic paraboloid equation : z = x*x - y*y"
   ]
  },
  {
   "cell_type": "code",
   "execution_count": null,
   "metadata": {
    "ExecuteTime": {
     "end_time": "2020-08-05T13:54:36.973990Z",
     "start_time": "2020-08-05T13:54:36.346110Z"
    }
   },
   "outputs": [],
   "source": [
    "# wireframe\n",
    "X = np.linspace(-10,10,500)\n",
    "Y = np.linspace(-10,10,500)\n",
    "X, Y = np.meshgrid(X,Y)\n",
    "Z =  X**2 - Y**2\n",
    "\n",
    "fig,ax = plt.subplots(figsize=(12.8,9.6))\n",
    "ax = plt.axes(projection='3d')\n",
    "ax.plot_wireframe(X, Y, Z, color='b')\n",
    "ax.set_xlabel('X')\n",
    "ax.set_ylabel('Y')\n",
    "ax.set_zlabel('Z')\n",
    "plt.show()"
   ]
  },
  {
   "cell_type": "markdown",
   "metadata": {
    "ExecuteTime": {
     "end_time": "2020-04-23T18:34:59.711512Z",
     "start_time": "2020-04-23T18:34:59.703126Z"
    }
   },
   "source": [
    "* Create surface plot of eliptical paraboloid on the domain <-10,10>X<-10,10>\n",
    "* eliptical paraboloid : z = x*x + y*y"
   ]
  },
  {
   "cell_type": "code",
   "execution_count": null,
   "metadata": {
    "ExecuteTime": {
     "end_time": "2020-08-05T13:54:47.528829Z",
     "start_time": "2020-08-05T13:54:37.010904Z"
    }
   },
   "outputs": [],
   "source": [
    "# surface plot\n",
    "X = np.linspace(-10,10,500)\n",
    "Y = np.linspace(-10,10,500)\n",
    "X, Y = np.meshgrid(X,Y)\n",
    "Z =  X**2 + Y**2\n",
    "\n",
    "fig,ax = plt.subplots(figsize=(12.8,9.6))\n",
    "ax = plt.axes(projection='3d')\n",
    "ax.plot_surface(X, Y, Z, cmap='jet')\n",
    "ax.set_xlabel('X')\n",
    "ax.set_ylabel('Y')\n",
    "ax.set_zlabel('Z')\n",
    "plt.show()"
   ]
  },
  {
   "cell_type": "markdown",
   "metadata": {
    "ExecuteTime": {
     "end_time": "2020-04-23T18:35:37.956885Z",
     "start_time": "2020-04-23T18:35:37.931983Z"
    }
   },
   "source": [
    "* Create surface plot of eliptical paraboloid on the domain <-10,10>X<-10,10>\n",
    "* Create also contour projection on the plane z=0 (HINT: use parameter 'zdir' of contour plot)\n",
    "* eliptical paraboloid : z = x*x + y*y"
   ]
  },
  {
   "cell_type": "code",
   "execution_count": null,
   "metadata": {
    "ExecuteTime": {
     "end_time": "2020-08-05T13:55:11.966970Z",
     "start_time": "2020-08-05T13:54:47.558061Z"
    }
   },
   "outputs": [],
   "source": [
    "# contour plot\n",
    "X = np.linspace(-10,10,500)\n",
    "Y = np.linspace(-10,10,500)\n",
    "X, Y = np.meshgrid(X,Y)\n",
    "Z =  X**2 + Y**2\n",
    "\n",
    "fig,ax = plt.subplots(figsize=(12.8,9.6))\n",
    "ax = plt.axes(projection='3d')\n",
    "ax.plot_surface(X, Y, Z, cmap='jet')\n",
    "ax.contour(X, Y, Z, 50, cmap='jet', zdir='z',offset=0)\n",
    "\n",
    "ax.set_xlabel('X')\n",
    "ax.set_ylabel('Y')\n",
    "ax.set_zlabel('Z')\n",
    "plt.show()"
   ]
  },
  {
   "cell_type": "code",
   "execution_count": null,
   "metadata": {},
   "outputs": [],
   "source": []
  },
  {
   "cell_type": "code",
   "execution_count": null,
   "metadata": {},
   "outputs": [],
   "source": []
  }
 ],
 "metadata": {
  "kernelspec": {
   "display_name": "Python 3",
   "language": "python",
   "name": "python3"
  },
  "language_info": {
   "codemirror_mode": {
    "name": "ipython",
    "version": 3
   },
   "file_extension": ".py",
   "mimetype": "text/x-python",
   "name": "python",
   "nbconvert_exporter": "python",
   "pygments_lexer": "ipython3",
   "version": "3.7.4"
  },
  "toc": {
   "base_numbering": 1,
   "nav_menu": {},
   "number_sections": true,
   "sideBar": true,
   "skip_h1_title": false,
   "title_cell": "Table of Contents",
   "title_sidebar": "Contents",
   "toc_cell": false,
   "toc_position": {},
   "toc_section_display": true,
   "toc_window_display": false
  },
  "varInspector": {
   "cols": {
    "lenName": 16,
    "lenType": 16,
    "lenVar": 40
   },
   "kernels_config": {
    "python": {
     "delete_cmd_postfix": "",
     "delete_cmd_prefix": "del ",
     "library": "var_list.py",
     "varRefreshCmd": "print(var_dic_list())"
    },
    "r": {
     "delete_cmd_postfix": ") ",
     "delete_cmd_prefix": "rm(",
     "library": "var_list.r",
     "varRefreshCmd": "cat(var_dic_list()) "
    }
   },
   "types_to_exclude": [
    "module",
    "function",
    "builtin_function_or_method",
    "instance",
    "_Feature"
   ],
   "window_display": false
  }
 },
 "nbformat": 4,
 "nbformat_minor": 2
}
