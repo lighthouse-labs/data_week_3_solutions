{
 "cells": [
  {
   "cell_type": "code",
   "execution_count": null,
   "metadata": {
    "ExecuteTime": {
     "end_time": "2020-08-06T07:37:44.201452Z",
     "start_time": "2020-08-06T07:37:42.431162Z"
    }
   },
   "outputs": [],
   "source": [
    "# import plotly graph objects\n",
    "import plotly.graph_objs as go\n",
    "\n",
    "# import pandas\n",
    "import pandas as pd"
   ]
  },
  {
   "cell_type": "markdown",
   "metadata": {},
   "source": [
    "# Objective: Create a scatterplot of 1000 random data points. \n",
    "x-axis values should come from a normal distribution using np.random.randn(1000).  \n",
    "y-axis values should come from a uniform distribution over [0,1) using np.random.rand(1000)"
   ]
  },
  {
   "cell_type": "code",
   "execution_count": null,
   "metadata": {
    "ExecuteTime": {
     "end_time": "2020-08-06T07:37:45.458959Z",
     "start_time": "2020-08-06T07:37:44.230277Z"
    }
   },
   "outputs": [],
   "source": [
    "# obtain x and y values:\n",
    "random_x = np.random.randn(1000) # normal distribution\n",
    "random_y = np.random.rand(1000)  # uniform distribution\n",
    "\n",
    "# define a data variable\n",
    "data = [go.Scatter(\n",
    "    x = random_x,\n",
    "    y = random_y,\n",
    "    mode = 'markers',\n",
    ")]\n",
    "\n",
    "# define the layout, and include a title and axis labels\n",
    "layout = go.Layout(\n",
    "    title = 'Random Data Scatterplot', # Graph title\n",
    "    xaxis = dict(title = 'Normal distribution'), # x-axis label\n",
    "    yaxis = dict(title = 'Uniform distribution'), # y-axis label\n",
    "    hovermode ='closest' # handles multiple points landing on the same vertical\n",
    ")\n",
    "\n",
    "# Create a fig from data and layout, and plot the fig\n",
    "fig = go.Figure(data=data, layout=layout)\n",
    "fig.show()"
   ]
  },
  {
   "cell_type": "markdown",
   "metadata": {},
   "source": [
    "# Objective: Create a stacked bar chart. Note that questions appear in the index (and should be used for the x-axis), while responses appear as column labels.  \n",
    "Stretch: make a horizontal bar chart! See https://plot.ly/python/horizontal-bar-charts/"
   ]
  },
  {
   "cell_type": "code",
   "execution_count": null,
   "metadata": {
    "ExecuteTime": {
     "end_time": "2020-08-06T07:37:47.242418Z",
     "start_time": "2020-08-06T07:37:46.820898Z"
    }
   },
   "outputs": [],
   "source": [
    "# load data\n",
    "df = pd.read_csv('https://raw.githubusercontent.com/Pierian-Data/Plotly-Dashboards-with-Dash/master/Data/mocksurvey.csv',index_col=0)"
   ]
  },
  {
   "cell_type": "code",
   "execution_count": null,
   "metadata": {
    "ExecuteTime": {
     "end_time": "2020-08-06T07:37:48.939395Z",
     "start_time": "2020-08-06T07:37:48.725880Z"
    }
   },
   "outputs": [],
   "source": [
    "# create traces using a list comprehension:\n",
    "data = [go.Bar(\n",
    "    y = df.index,     # reverse your x- and y-axis assignments\n",
    "    x = df[response],\n",
    "    orientation='h',  # this line makes it horizontal!\n",
    "    name=response\n",
    ") for response in df.columns]\n",
    "\n",
    "# create a layout, remember to set the barmode here\n",
    "layout = go.Layout(\n",
    "    title='Mock Survey Results',\n",
    "    barmode='stack'\n",
    ")\n",
    "\n",
    "# create a fig from data & layout, and plot the fig.\n",
    "fig = go.Figure(data=data, layout=layout)\n",
    "fig.show()"
   ]
  },
  {
   "cell_type": "markdown",
   "metadata": {},
   "source": [
    "# Objective: Create a histogram that plots the 'length' field from dataset. Set the range from 0 to 1, with a bin size of 0.02"
   ]
  },
  {
   "cell_type": "code",
   "execution_count": null,
   "metadata": {
    "ExecuteTime": {
     "end_time": "2020-08-06T07:37:52.743546Z",
     "start_time": "2020-08-06T07:37:52.133176Z"
    }
   },
   "outputs": [],
   "source": [
    "# load data\n",
    "df = pd.read_csv('https://raw.githubusercontent.com/Pierian-Data/Plotly-Dashboards-with-Dash/master/Data/abalone.csv')"
   ]
  },
  {
   "cell_type": "code",
   "execution_count": null,
   "metadata": {
    "ExecuteTime": {
     "end_time": "2020-08-06T07:37:53.076136Z",
     "start_time": "2020-08-06T07:37:52.854226Z"
    }
   },
   "outputs": [],
   "source": [
    "# create a data variable:\n",
    "data = [go.Histogram(\n",
    "    x=df['length'],\n",
    "    xbins=dict(start=0,end=1,size=.02),\n",
    ")]\n",
    "\n",
    "# add a layout\n",
    "layout = go.Layout(\n",
    "    title=\"Shell lengths from the Abalone dataset\"\n",
    ")\n",
    "\n",
    "# create a fig from data & layout, and plot the fig\n",
    "fig = go.Figure(data=data, layout=layout)\n",
    "fig.show()"
   ]
  },
  {
   "cell_type": "code",
   "execution_count": null,
   "metadata": {},
   "outputs": [],
   "source": []
  },
  {
   "cell_type": "code",
   "execution_count": null,
   "metadata": {},
   "outputs": [],
   "source": []
  },
  {
   "cell_type": "code",
   "execution_count": null,
   "metadata": {},
   "outputs": [],
   "source": []
  }
 ],
 "metadata": {
  "kernelspec": {
   "display_name": "Python 3",
   "language": "python",
   "name": "python3"
  },
  "language_info": {
   "codemirror_mode": {
    "name": "ipython",
    "version": 3
   },
   "file_extension": ".py",
   "mimetype": "text/x-python",
   "name": "python",
   "nbconvert_exporter": "python",
   "pygments_lexer": "ipython3",
   "version": "3.7.6"
  },
  "toc": {
   "base_numbering": 1,
   "nav_menu": {},
   "number_sections": true,
   "sideBar": true,
   "skip_h1_title": false,
   "title_cell": "Table of Contents",
   "title_sidebar": "Contents",
   "toc_cell": false,
   "toc_position": {},
   "toc_section_display": true,
   "toc_window_display": false
  },
  "varInspector": {
   "cols": {
    "lenName": 16,
    "lenType": 16,
    "lenVar": 40
   },
   "kernels_config": {
    "python": {
     "delete_cmd_postfix": "",
     "delete_cmd_prefix": "del ",
     "library": "var_list.py",
     "varRefreshCmd": "print(var_dic_list())"
    },
    "r": {
     "delete_cmd_postfix": ") ",
     "delete_cmd_prefix": "rm(",
     "library": "var_list.r",
     "varRefreshCmd": "cat(var_dic_list()) "
    }
   },
   "types_to_exclude": [
    "module",
    "function",
    "builtin_function_or_method",
    "instance",
    "_Feature"
   ],
   "window_display": false
  }
 },
 "nbformat": 4,
 "nbformat_minor": 4
}
