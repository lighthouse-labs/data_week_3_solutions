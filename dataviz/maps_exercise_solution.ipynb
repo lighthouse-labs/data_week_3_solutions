{
 "cells": [
  {
   "cell_type": "code",
   "execution_count": null,
   "metadata": {
    "ExecuteTime": {
     "end_time": "2020-08-05T13:56:00.212779Z",
     "start_time": "2020-08-05T13:55:57.877474Z"
    }
   },
   "outputs": [],
   "source": [
    "# import geopandas and matplotlib\n",
    "import geopandas as gpd\n",
    "import matplotlib.pyplot as plt"
   ]
  },
  {
   "cell_type": "code",
   "execution_count": null,
   "metadata": {
    "ExecuteTime": {
     "end_time": "2020-08-05T13:56:00.280698Z",
     "start_time": "2020-08-05T13:56:00.239232Z"
    }
   },
   "outputs": [],
   "source": [
    "# countries data\n",
    "world = gpd.read_file(gpd.datasets.get_path('naturalearth_lowres'))"
   ]
  },
  {
   "cell_type": "markdown",
   "metadata": {},
   "source": [
    "* print top 5 rows of world data-frame"
   ]
  },
  {
   "cell_type": "code",
   "execution_count": null,
   "metadata": {
    "ExecuteTime": {
     "end_time": "2020-08-05T13:56:06.247924Z",
     "start_time": "2020-08-05T13:56:06.211373Z"
    }
   },
   "outputs": [],
   "source": [
    "world.head()"
   ]
  },
  {
   "cell_type": "markdown",
   "metadata": {},
   "source": [
    "* remove continents which have only one country in data-frame\n"
   ]
  },
  {
   "cell_type": "code",
   "execution_count": null,
   "metadata": {
    "ExecuteTime": {
     "end_time": "2020-08-05T13:56:07.035764Z",
     "start_time": "2020-08-05T13:56:07.009841Z"
    }
   },
   "outputs": [],
   "source": [
    "# continents with only one country\n",
    "only_one_country = world['continent'].value_counts()\\\n",
    "                                     .to_frame('count_countries')\\\n",
    "                                     .query('count_countries == 1')\\\n",
    "                                     .index\\\n",
    "                                     .tolist()\n",
    "\n",
    "# remove these continents\n",
    "world = world[~world.continent.isin(only_one_country)]"
   ]
  },
  {
   "cell_type": "markdown",
   "metadata": {},
   "source": [
    "* create dataframe with top 3 most populated countries from each continent\n",
    "* store the result in data-frame with name 'world_filtered'"
   ]
  },
  {
   "cell_type": "code",
   "execution_count": null,
   "metadata": {
    "ExecuteTime": {
     "end_time": "2020-08-05T13:56:08.035104Z",
     "start_time": "2020-08-05T13:56:07.996584Z"
    }
   },
   "outputs": [],
   "source": [
    "world_filtered = world.groupby('continent')\\\n",
    "                      .apply(lambda x: x.sort_values('pop_est', ascending=False).head(3))\\\n",
    "                      .reset_index(drop=True)"
   ]
  },
  {
   "cell_type": "markdown",
   "metadata": {},
   "source": [
    "* print 'world_filtered' data-frame"
   ]
  },
  {
   "cell_type": "code",
   "execution_count": null,
   "metadata": {
    "ExecuteTime": {
     "end_time": "2020-08-05T13:56:08.594582Z",
     "start_time": "2020-08-05T13:56:08.549377Z"
    }
   },
   "outputs": [],
   "source": [
    "world_filtered"
   ]
  },
  {
   "cell_type": "markdown",
   "metadata": {},
   "source": [
    "* create choropleth map of world\n",
    "* the colors of countries from 'world_filtered' are based on population\n",
    "* other countries are white with black edgecolor"
   ]
  },
  {
   "cell_type": "code",
   "execution_count": null,
   "metadata": {
    "ExecuteTime": {
     "end_time": "2020-08-05T13:56:09.626792Z",
     "start_time": "2020-08-05T13:56:09.036581Z"
    }
   },
   "outputs": [],
   "source": [
    "# create figure and axes\n",
    "fig, ax = plt.subplots(figsize=(15,12))\n",
    "\n",
    "# create map from world_filtered data-frame\n",
    "world_filtered.plot(column='pop_est', ax=ax, legend=True,\n",
    "                    legend_kwds={'label': \"Population by Country\",\n",
    "                                 'orientation': \"horizontal\"})\n",
    "# add the rest of the countries\n",
    "world[~world.name.isin(world_filtered.name)].plot(ax=ax, color='white', edgecolor='black')\n",
    "plt.show()"
   ]
  },
  {
   "cell_type": "markdown",
   "metadata": {},
   "source": [
    "* add New York, Berlin, Paris, Toronto, Calgary, Tokyo to the map you have created before\n",
    "* to get geometry of these cities use gpd.tools.geocode(['New York', 'Berlin', 'Paris','Toronto', 'Calgary', 'Tokyo'])\n",
    "* if you do not have geopy library instaled, install it with the following command in the jupyter notebook cell\n",
    "* !pip install geopy"
   ]
  },
  {
   "cell_type": "code",
   "execution_count": null,
   "metadata": {
    "ExecuteTime": {
     "end_time": "2020-08-05T13:56:30.226992Z",
     "start_time": "2020-08-05T13:56:24.812958Z"
    }
   },
   "outputs": [],
   "source": [
    "# get geometry\n",
    "cities = gpd.tools.geocode(['New York', 'Berlin', 'Paris', 'Toronto', 'Calgary', 'Tokyo'])\n",
    "\n",
    "# create figure and axes\n",
    "fig, ax = plt.subplots(figsize=(15,12))\n",
    "\n",
    "# create map from world_filtered data-frame\n",
    "world_filtered.plot(column='pop_est', ax=ax, legend=True,\n",
    "                    legend_kwds={'label': \"Population by Country\",\n",
    "                                 'orientation': \"horizontal\"})\n",
    "# add the rest of the countries\n",
    "world[~world.name.isin(world_filtered.name)].plot(ax=ax, color='white', edgecolor='black')\n",
    "\n",
    "# add cities\n",
    "cities.plot(ax=ax ,marker='*', color='red', markersize=50)\n",
    "plt.show()"
   ]
  },
  {
   "cell_type": "code",
   "execution_count": null,
   "metadata": {},
   "outputs": [],
   "source": []
  },
  {
   "cell_type": "code",
   "execution_count": null,
   "metadata": {},
   "outputs": [],
   "source": []
  }
 ],
 "metadata": {
  "kernelspec": {
   "display_name": "Python 3",
   "language": "python",
   "name": "python3"
  },
  "language_info": {
   "codemirror_mode": {
    "name": "ipython",
    "version": 3
   },
   "file_extension": ".py",
   "mimetype": "text/x-python",
   "name": "python",
   "nbconvert_exporter": "python",
   "pygments_lexer": "ipython3",
   "version": "3.7.4"
  },
  "toc": {
   "base_numbering": 1,
   "nav_menu": {},
   "number_sections": true,
   "sideBar": true,
   "skip_h1_title": false,
   "title_cell": "Table of Contents",
   "title_sidebar": "Contents",
   "toc_cell": false,
   "toc_position": {},
   "toc_section_display": true,
   "toc_window_display": false
  },
  "varInspector": {
   "cols": {
    "lenName": 16,
    "lenType": 16,
    "lenVar": 40
   },
   "kernels_config": {
    "python": {
     "delete_cmd_postfix": "",
     "delete_cmd_prefix": "del ",
     "library": "var_list.py",
     "varRefreshCmd": "print(var_dic_list())"
    },
    "r": {
     "delete_cmd_postfix": ") ",
     "delete_cmd_prefix": "rm(",
     "library": "var_list.r",
     "varRefreshCmd": "cat(var_dic_list()) "
    }
   },
   "types_to_exclude": [
    "module",
    "function",
    "builtin_function_or_method",
    "instance",
    "_Feature"
   ],
   "window_display": false
  }
 },
 "nbformat": 4,
 "nbformat_minor": 2
}
