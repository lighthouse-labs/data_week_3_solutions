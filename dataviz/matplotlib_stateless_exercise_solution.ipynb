{
 "cells": [
  {
   "cell_type": "code",
   "execution_count": null,
   "metadata": {
    "ExecuteTime": {
     "end_time": "2020-08-05T14:19:05.384802Z",
     "start_time": "2020-08-05T14:19:04.784707Z"
    }
   },
   "outputs": [],
   "source": [
    "# import pandas\n",
    "import pandas as pd\n",
    "\n",
    "# import matplotlib\n",
    "import matplotlib.pyplot as plt"
   ]
  },
  {
   "cell_type": "code",
   "execution_count": null,
   "metadata": {
    "ExecuteTime": {
     "end_time": "2020-08-05T14:19:05.534727Z",
     "start_time": "2020-08-05T14:19:05.411312Z"
    }
   },
   "outputs": [],
   "source": [
    "df=pd.read_csv('https://pynative.com/wp-content/uploads/2019/01/company_sales_data.csv')"
   ]
  },
  {
   "cell_type": "code",
   "execution_count": null,
   "metadata": {
    "ExecuteTime": {
     "end_time": "2020-08-05T14:19:05.594142Z",
     "start_time": "2020-08-05T14:19:05.575464Z"
    }
   },
   "outputs": [],
   "source": [
    "df.head()"
   ]
  },
  {
   "cell_type": "markdown",
   "metadata": {
    "ExecuteTime": {
     "end_time": "2020-02-10T14:31:17.354810Z",
     "start_time": "2020-02-10T14:31:17.350708Z"
    }
   },
   "source": [
    "# Objective: Read Total profit of all months and show it using a line plot"
   ]
  },
  {
   "cell_type": "code",
   "execution_count": null,
   "metadata": {
    "ExecuteTime": {
     "end_time": "2020-08-05T14:21:35.099658Z",
     "start_time": "2020-08-05T14:21:34.921547Z"
    }
   },
   "outputs": [],
   "source": [
    "profit = df['total_profit']\n",
    "month  = df['month_number']\n",
    "\n",
    "fig, ax = plt.subplots(figsize = (10,6))\n",
    "ax.plot(month, profit, label = 'Month-wise Profit data of last year')\n",
    "ax.set_xlabel('Month number')\n",
    "ax.set_ylabel('Profit in dollar')\n",
    "ax.set_xticks(month)\n",
    "ax.set_title('Company profit per month')\n",
    "ax.set_yticks([100000, 200000, 300000, 400000, 500000])\n",
    "plt.show()"
   ]
  },
  {
   "cell_type": "markdown",
   "metadata": {
    "ExecuteTime": {
     "end_time": "2020-02-10T14:32:21.369689Z",
     "start_time": "2020-02-10T14:32:21.365982Z"
    }
   },
   "source": [
    "# Objective: Read all product sales data and show it  using a multiline plot"
   ]
  },
  {
   "cell_type": "code",
   "execution_count": null,
   "metadata": {
    "ExecuteTime": {
     "end_time": "2020-08-05T14:23:21.446355Z",
     "start_time": "2020-08-05T14:23:21.172910Z"
    }
   },
   "outputs": [],
   "source": [
    "monthList  = df['month_number']\n",
    "faceCremSalesData   = df['facecream']\n",
    "faceWashSalesData   = df['facewash']\n",
    "toothPasteSalesData = df['toothpaste']\n",
    "bathingsoapSalesData = df ['bathingsoap']\n",
    "shampooSalesData   = df['shampoo']\n",
    "moisturizerSalesData = df['moisturizer']\n",
    "\n",
    "fig, ax = plt.subplots(figsize = (10,6))\n",
    "ax.plot(monthList, faceCremSalesData,   label = 'Face cream Sales Data', marker='o', linewidth=3)\n",
    "ax.plot(monthList, faceWashSalesData,   label = 'Face Wash Sales Data',  marker='o', linewidth=3)\n",
    "ax.plot(monthList, toothPasteSalesData, label = 'ToothPaste Sales Data', marker='o', linewidth=3)\n",
    "ax.plot(monthList, bathingsoapSalesData, label = 'ToothPaste Sales Data', marker='o', linewidth=3)\n",
    "ax.plot(monthList, shampooSalesData, label = 'ToothPaste Sales Data', marker='o', linewidth=3)\n",
    "ax.plot(monthList, moisturizerSalesData, label = 'ToothPaste Sales Data', marker='o', linewidth=3)\n",
    "ax.set_xlabel('Month Number')\n",
    "ax.set_ylabel('Sales units in number')\n",
    "ax.legend(loc='upper left')\n",
    "ax.set_xticks(monthList)\n",
    "ax.set_yticks([1000, 2000, 4000, 6000, 8000, 10000, 12000, 15000, 18000])\n",
    "ax.set_title('Sales data')\n",
    "plt.show()"
   ]
  },
  {
   "cell_type": "markdown",
   "metadata": {},
   "source": [
    "# Objective: Read the total profit of each month and show it using the histogram to see most common profit ranges"
   ]
  },
  {
   "cell_type": "code",
   "execution_count": null,
   "metadata": {
    "ExecuteTime": {
     "end_time": "2020-08-05T14:25:09.578502Z",
     "start_time": "2020-08-05T14:25:09.365465Z"
    }
   },
   "outputs": [],
   "source": [
    "profitList = df ['total_profit']\n",
    "labels = ['low', 'average', 'Good', 'Best']\n",
    "profit_range = [150000, 175000, 200000, 225000, 250000, 300000, 350000]\n",
    "\n",
    "fig, ax = plt.subplots(figsize = (10,6))\n",
    "ax.hist(profitList, profit_range, label = 'Profit data')\n",
    "ax.set_xlabel('profit range in dollar')\n",
    "ax.set_ylabel('Actual Profit in dollar')\n",
    "ax.legend(loc='upper left')\n",
    "ax.set_xticks(profit_range)\n",
    "ax.set_title('Profit data')\n",
    "plt.show()"
   ]
  },
  {
   "cell_type": "code",
   "execution_count": null,
   "metadata": {},
   "outputs": [],
   "source": []
  }
 ],
 "metadata": {
  "kernelspec": {
   "display_name": "Python 3",
   "language": "python",
   "name": "python3"
  },
  "language_info": {
   "codemirror_mode": {
    "name": "ipython",
    "version": 3
   },
   "file_extension": ".py",
   "mimetype": "text/x-python",
   "name": "python",
   "nbconvert_exporter": "python",
   "pygments_lexer": "ipython3",
   "version": "3.7.6"
  },
  "toc": {
   "base_numbering": 1,
   "nav_menu": {},
   "number_sections": true,
   "sideBar": true,
   "skip_h1_title": false,
   "title_cell": "Table of Contents",
   "title_sidebar": "Contents",
   "toc_cell": false,
   "toc_position": {},
   "toc_section_display": true,
   "toc_window_display": false
  },
  "varInspector": {
   "cols": {
    "lenName": 16,
    "lenType": 16,
    "lenVar": 40
   },
   "kernels_config": {
    "python": {
     "delete_cmd_postfix": "",
     "delete_cmd_prefix": "del ",
     "library": "var_list.py",
     "varRefreshCmd": "print(var_dic_list())"
    },
    "r": {
     "delete_cmd_postfix": ") ",
     "delete_cmd_prefix": "rm(",
     "library": "var_list.r",
     "varRefreshCmd": "cat(var_dic_list()) "
    }
   },
   "types_to_exclude": [
    "module",
    "function",
    "builtin_function_or_method",
    "instance",
    "_Feature"
   ],
   "window_display": false
  }
 },
 "nbformat": 4,
 "nbformat_minor": 4
}
