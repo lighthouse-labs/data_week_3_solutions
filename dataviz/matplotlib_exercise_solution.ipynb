{
 "cells": [
  {
   "cell_type": "code",
   "execution_count": null,
   "metadata": {
    "ExecuteTime": {
     "end_time": "2020-08-05T13:45:18.054584Z",
     "start_time": "2020-08-05T13:45:17.472817Z"
    }
   },
   "outputs": [],
   "source": [
    "# import pandas\n",
    "import pandas as pd\n",
    "\n",
    "# import matplotlib\n",
    "import matplotlib.pyplot as plt"
   ]
  },
  {
   "cell_type": "code",
   "execution_count": null,
   "metadata": {
    "ExecuteTime": {
     "end_time": "2020-08-05T13:45:18.184696Z",
     "start_time": "2020-08-05T13:45:18.081877Z"
    }
   },
   "outputs": [],
   "source": [
    "df=pd.read_csv('https://pynative.com/wp-content/uploads/2019/01/company_sales_data.csv')"
   ]
  },
  {
   "cell_type": "code",
   "execution_count": null,
   "metadata": {
    "ExecuteTime": {
     "end_time": "2020-08-05T13:45:18.267004Z",
     "start_time": "2020-08-05T13:45:18.244233Z"
    }
   },
   "outputs": [],
   "source": [
    "df.head()"
   ]
  },
  {
   "cell_type": "markdown",
   "metadata": {
    "ExecuteTime": {
     "end_time": "2020-02-10T14:31:17.354810Z",
     "start_time": "2020-02-10T14:31:17.350708Z"
    }
   },
   "source": [
    "# Objective: Read Total profit of all months and show it using a line plot"
   ]
  },
  {
   "cell_type": "code",
   "execution_count": null,
   "metadata": {
    "ExecuteTime": {
     "end_time": "2020-08-05T13:45:18.911816Z",
     "start_time": "2020-08-05T13:45:18.731899Z"
    }
   },
   "outputs": [],
   "source": [
    "profit = df['total_profit']\n",
    "month  = df['month_number']\n",
    "plt.plot(month, profit, label = 'Month-wise Profit data of last year')\n",
    "plt.xlabel('Month number')\n",
    "plt.ylabel('Profit in dollar')\n",
    "plt.xticks(month)\n",
    "plt.title('Company profit per month')\n",
    "plt.yticks([100000, 200000, 300000, 400000, 500000])\n",
    "plt.show()"
   ]
  },
  {
   "cell_type": "markdown",
   "metadata": {
    "ExecuteTime": {
     "end_time": "2020-02-10T14:32:21.369689Z",
     "start_time": "2020-02-10T14:32:21.365982Z"
    }
   },
   "source": [
    "# Objective: Read all product sales data and show it  using a multiline plot"
   ]
  },
  {
   "cell_type": "code",
   "execution_count": null,
   "metadata": {
    "ExecuteTime": {
     "end_time": "2020-08-05T13:45:20.075929Z",
     "start_time": "2020-08-05T13:45:19.868370Z"
    }
   },
   "outputs": [],
   "source": [
    "monthList  = df['month_number']\n",
    "faceCremSalesData   = df['facecream']\n",
    "faceWashSalesData   = df['facewash']\n",
    "toothPasteSalesData = df['toothpaste']\n",
    "bathingsoapSalesData   = df ['bathingsoap']\n",
    "shampooSalesData   = df['shampoo']\n",
    "moisturizerSalesData = df['moisturizer']\n",
    "plt.plot(monthList, faceCremSalesData,   label = 'Face cream Sales Data', marker='o', linewidth=3)\n",
    "plt.plot(monthList, faceWashSalesData,   label = 'Face Wash Sales Data',  marker='o', linewidth=3)\n",
    "plt.plot(monthList, toothPasteSalesData, label = 'ToothPaste Sales Data', marker='o', linewidth=3)\n",
    "plt.plot(monthList, bathingsoapSalesData, label = 'ToothPaste Sales Data', marker='o', linewidth=3)\n",
    "plt.plot(monthList, shampooSalesData, label = 'ToothPaste Sales Data', marker='o', linewidth=3)\n",
    "plt.plot(monthList, moisturizerSalesData, label = 'ToothPaste Sales Data', marker='o', linewidth=3)\n",
    "plt.xlabel('Month Number')\n",
    "plt.ylabel('Sales units in number')\n",
    "plt.legend(loc='upper left')\n",
    "plt.xticks(monthList)\n",
    "plt.yticks([1000, 2000, 4000, 6000, 8000, 10000, 12000, 15000, 18000])\n",
    "plt.title('Sales data')\n",
    "plt.show()"
   ]
  },
  {
   "cell_type": "markdown",
   "metadata": {},
   "source": [
    "# Objective: Read the total profit of each month and show it using the histogram to see most common profit ranges"
   ]
  },
  {
   "cell_type": "code",
   "execution_count": null,
   "metadata": {
    "ExecuteTime": {
     "end_time": "2020-08-05T13:45:21.065906Z",
     "start_time": "2020-08-05T13:45:20.898885Z"
    }
   },
   "outputs": [],
   "source": [
    "profitList = df ['total_profit']\n",
    "labels = ['low', 'average', 'Good', 'Best']\n",
    "profit_range = [150000, 175000, 200000, 225000, 250000, 300000, 350000]\n",
    "plt.hist(profitList, profit_range, label = 'Profit data')\n",
    "plt.xlabel('profit range in dollar')\n",
    "plt.ylabel('Actual Profit in dollar')\n",
    "plt.legend(loc='upper left')\n",
    "plt.xticks(profit_range)\n",
    "plt.title('Profit data')\n",
    "plt.show()"
   ]
  },
  {
   "cell_type": "code",
   "execution_count": null,
   "metadata": {},
   "outputs": [],
   "source": []
  }
 ],
 "metadata": {
  "kernelspec": {
   "display_name": "Python 3",
   "language": "python",
   "name": "python3"
  },
  "language_info": {
   "codemirror_mode": {
    "name": "ipython",
    "version": 3
   },
   "file_extension": ".py",
   "mimetype": "text/x-python",
   "name": "python",
   "nbconvert_exporter": "python",
   "pygments_lexer": "ipython3",
   "version": "3.7.6"
  },
  "toc": {
   "base_numbering": 1,
   "nav_menu": {},
   "number_sections": true,
   "sideBar": true,
   "skip_h1_title": false,
   "title_cell": "Table of Contents",
   "title_sidebar": "Contents",
   "toc_cell": false,
   "toc_position": {},
   "toc_section_display": true,
   "toc_window_display": false
  },
  "varInspector": {
   "cols": {
    "lenName": 16,
    "lenType": 16,
    "lenVar": 40
   },
   "kernels_config": {
    "python": {
     "delete_cmd_postfix": "",
     "delete_cmd_prefix": "del ",
     "library": "var_list.py",
     "varRefreshCmd": "print(var_dic_list())"
    },
    "r": {
     "delete_cmd_postfix": ") ",
     "delete_cmd_prefix": "rm(",
     "library": "var_list.r",
     "varRefreshCmd": "cat(var_dic_list()) "
    }
   },
   "types_to_exclude": [
    "module",
    "function",
    "builtin_function_or_method",
    "instance",
    "_Feature"
   ],
   "window_display": false
  }
 },
 "nbformat": 4,
 "nbformat_minor": 4
}
