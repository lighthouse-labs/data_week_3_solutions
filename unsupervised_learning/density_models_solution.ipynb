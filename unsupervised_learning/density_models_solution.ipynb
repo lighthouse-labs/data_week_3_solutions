{
 "cells": [
  {
   "cell_type": "code",
   "execution_count": null,
   "metadata": {
    "ExecuteTime": {
     "end_time": "2020-08-05T15:01:30.327880Z",
     "start_time": "2020-08-05T15:01:29.306840Z"
    }
   },
   "outputs": [],
   "source": [
    "# import matplotlib\n",
    "import matplotlib.pyplot as plt\n",
    "\n",
    "# set figure size\n",
    "plt.rcParams[\"figure.figsize\"] = (12,8)\n",
    "\n",
    "#import numpy\n",
    "import numpy as np\n",
    "\n",
    "# from sklearn import make_blobs\n",
    "from sklearn.datasets import make_blobs\n",
    "\n",
    "# import DBSCAN\n",
    "from sklearn.cluster import DBSCAN"
   ]
  },
  {
   "cell_type": "markdown",
   "metadata": {},
   "source": [
    "## Task: Generate clusters with make_blobs function \n",
    "\n",
    "* use this settings:\n",
    "    * n_samples=150,\n",
    "    * n_features=2,\n",
    "    * centers=3,\n",
    "    * cluster_std=0.6,\n",
    "    * random_state=0"
   ]
  },
  {
   "cell_type": "code",
   "execution_count": null,
   "metadata": {
    "ExecuteTime": {
     "end_time": "2020-08-05T15:01:30.370161Z",
     "start_time": "2020-08-05T15:01:30.361113Z"
    }
   },
   "outputs": [],
   "source": [
    "X, y = make_blobs(n_samples=150,\n",
    "                  n_features=2,\n",
    "                  centers=3,\n",
    "                  cluster_std=0.6,\n",
    "                  random_state=0)"
   ]
  },
  {
   "cell_type": "markdown",
   "metadata": {},
   "source": [
    "* plot data points"
   ]
  },
  {
   "cell_type": "code",
   "execution_count": null,
   "metadata": {
    "ExecuteTime": {
     "end_time": "2020-08-05T15:01:30.606091Z",
     "start_time": "2020-08-05T15:01:30.393789Z"
    }
   },
   "outputs": [],
   "source": [
    "plt.scatter(X[:,0],\n",
    "            X[:,1],\n",
    "            c='black',\n",
    "            marker='o')\n",
    "plt.grid()\n",
    "plt.show()"
   ]
  },
  {
   "cell_type": "markdown",
   "metadata": {},
   "source": [
    "* define function plot clusters"
   ]
  },
  {
   "cell_type": "code",
   "execution_count": null,
   "metadata": {
    "ExecuteTime": {
     "end_time": "2020-08-05T15:01:30.726436Z",
     "start_time": "2020-08-05T15:01:30.716263Z"
    }
   },
   "outputs": [],
   "source": [
    "def plot_clusters(X,y_res, plt_cluster_centers = False):\n",
    "    X_centroids = []\n",
    "    Y_centroids = []\n",
    "    \n",
    "    for cluster in set(y_res):\n",
    "        x = X[y_res == cluster,0]\n",
    "        y = X[y_res == cluster,1]\n",
    "        X_centroids.append(np.mean(x))\n",
    "        Y_centroids.append(np.mean(y))\n",
    "        \n",
    "        plt.scatter(x,\n",
    "                    y,\n",
    "                    s=50,\n",
    "                    marker='s',\n",
    "                    label=f'cluster {cluster}')\n",
    "        \n",
    "    if plt_cluster_centers:\n",
    "        plt.scatter(X_centroids,\n",
    "                    Y_centroids,\n",
    "                    marker='*',\n",
    "                    c='red',\n",
    "                    s=250,\n",
    "                    label='centroids')\n",
    "    plt.legend()\n",
    "    plt.grid()\n",
    "    plt.show()"
   ]
  },
  {
   "cell_type": "markdown",
   "metadata": {
    "ExecuteTime": {
     "end_time": "2020-02-19T11:09:12.710481Z",
     "start_time": "2020-02-19T11:09:12.706057Z"
    }
   },
   "source": [
    "## Objective: \n",
    "Try to find optimal settings of `eps` and `min_samples` params of DBSCAN. You can iterate over multiple parameters combinations and plot the clustering results."
   ]
  },
  {
   "cell_type": "markdown",
   "metadata": {},
   "source": [
    "* define params space"
   ]
  },
  {
   "cell_type": "code",
   "execution_count": null,
   "metadata": {
    "ExecuteTime": {
     "end_time": "2020-08-05T15:01:31.580516Z",
     "start_time": "2020-08-05T15:01:31.574068Z"
    }
   },
   "outputs": [],
   "source": [
    "eps_values = [0.1,0.2,0.5,0.8]\n",
    "min_samples_values = [1,3,5]"
   ]
  },
  {
   "cell_type": "markdown",
   "metadata": {},
   "source": [
    "* combinations (hint: use 'product' function from 'intertools')"
   ]
  },
  {
   "cell_type": "code",
   "execution_count": null,
   "metadata": {
    "ExecuteTime": {
     "end_time": "2020-08-05T15:01:32.034820Z",
     "start_time": "2020-08-05T15:01:32.023997Z"
    }
   },
   "outputs": [],
   "source": [
    "from itertools import product\n",
    "combinations = list(product(eps_values,min_samples_values))"
   ]
  },
  {
   "cell_type": "code",
   "execution_count": null,
   "metadata": {
    "ExecuteTime": {
     "end_time": "2020-08-05T15:01:37.863740Z",
     "start_time": "2020-08-05T15:01:32.296052Z"
    }
   },
   "outputs": [],
   "source": [
    "for com in combinations:\n",
    "    eps, min_samples = com\n",
    "    \n",
    "    # Fit DBSCAN\n",
    "    db = DBSCAN(eps=eps,\n",
    "                min_samples=min_samples,\n",
    "                metric='euclidean')\n",
    "\n",
    "    y_db = db.fit_predict(X)\n",
    "\n",
    "    # Plot DBSCAN clusters\n",
    "    plt.title(f'eps: {eps}, min_samples: {min_samples}')\n",
    "    plot_clusters(X,y_db)"
   ]
  },
  {
   "cell_type": "code",
   "execution_count": null,
   "metadata": {},
   "outputs": [],
   "source": []
  },
  {
   "cell_type": "code",
   "execution_count": null,
   "metadata": {},
   "outputs": [],
   "source": []
  }
 ],
 "metadata": {
  "kernelspec": {
   "display_name": "Python 3",
   "language": "python",
   "name": "python3"
  },
  "language_info": {
   "codemirror_mode": {
    "name": "ipython",
    "version": 3
   },
   "file_extension": ".py",
   "mimetype": "text/x-python",
   "name": "python",
   "nbconvert_exporter": "python",
   "pygments_lexer": "ipython3",
   "version": "3.7.6"
  },
  "toc": {
   "base_numbering": 1,
   "nav_menu": {},
   "number_sections": true,
   "sideBar": true,
   "skip_h1_title": false,
   "title_cell": "Table of Contents",
   "title_sidebar": "Contents",
   "toc_cell": false,
   "toc_position": {},
   "toc_section_display": true,
   "toc_window_display": false
  },
  "varInspector": {
   "cols": {
    "lenName": 16,
    "lenType": 16,
    "lenVar": 40
   },
   "kernels_config": {
    "python": {
     "delete_cmd_postfix": "",
     "delete_cmd_prefix": "del ",
     "library": "var_list.py",
     "varRefreshCmd": "print(var_dic_list())"
    },
    "r": {
     "delete_cmd_postfix": ") ",
     "delete_cmd_prefix": "rm(",
     "library": "var_list.r",
     "varRefreshCmd": "cat(var_dic_list()) "
    }
   },
   "types_to_exclude": [
    "module",
    "function",
    "builtin_function_or_method",
    "instance",
    "_Feature"
   ],
   "window_display": false
  }
 },
 "nbformat": 4,
 "nbformat_minor": 4
}
