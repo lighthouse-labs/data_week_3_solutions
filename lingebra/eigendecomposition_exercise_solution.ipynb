{
 "cells": [
  {
   "cell_type": "code",
   "execution_count": null,
   "metadata": {
    "ExecuteTime": {
     "end_time": "2020-08-05T15:09:32.330558Z",
     "start_time": "2020-08-05T15:09:32.033009Z"
    }
   },
   "outputs": [],
   "source": [
    "# import numpy\n",
    "import numpy as np"
   ]
  },
  {
   "cell_type": "markdown",
   "metadata": {
    "ExecuteTime": {
     "end_time": "2020-01-30T08:49:32.705250Z",
     "start_time": "2020-01-30T08:49:32.690350Z"
    }
   },
   "source": [
    "**Task:** create matrix (2x2) matrix 'A'\n"
   ]
  },
  {
   "cell_type": "code",
   "execution_count": null,
   "metadata": {
    "ExecuteTime": {
     "end_time": "2020-08-05T15:09:32.350899Z",
     "start_time": "2020-08-05T15:09:32.333715Z"
    }
   },
   "outputs": [],
   "source": [
    "A = np.array([[1,2],[3,4]])\n",
    "A"
   ]
  },
  {
   "cell_type": "markdown",
   "metadata": {},
   "source": [
    "**Task:**"
   ]
  },
  {
   "cell_type": "code",
   "execution_count": null,
   "metadata": {
    "ExecuteTime": {
     "end_time": "2020-08-05T15:09:32.364170Z",
     "start_time": "2020-08-05T15:09:32.354372Z"
    }
   },
   "outputs": [],
   "source": [
    "\"\"\"\n",
    "Define function 'shape_2x2' which checks if matrix has shape (2x2)\n",
    "\n",
    "PARAMS:\n",
    "    matrix (numpy.ndarray) - matrix to check\n",
    "RETURN:\n",
    "    True (bool) - if matrix has shape 2x2\n",
    "    False (bool) - if matrix has not shape 2x2\n",
    "\n",
    "\"\"\""
   ]
  },
  {
   "cell_type": "code",
   "execution_count": null,
   "metadata": {
    "ExecuteTime": {
     "end_time": "2020-08-05T15:09:32.375659Z",
     "start_time": "2020-08-05T15:09:32.367435Z"
    }
   },
   "outputs": [],
   "source": [
    "def shape_2x2(matrix):\n",
    "    if matrix.shape[0] != matrix.shape[1] or matrix.shape[0] !=2:\n",
    "        return False\n",
    "    return True"
   ]
  },
  {
   "cell_type": "markdown",
   "metadata": {},
   "source": [
    "**Task:**"
   ]
  },
  {
   "cell_type": "code",
   "execution_count": null,
   "metadata": {
    "ExecuteTime": {
     "end_time": "2020-08-05T15:09:32.386026Z",
     "start_time": "2020-08-05T15:09:32.377935Z"
    }
   },
   "outputs": [],
   "source": [
    "\"\"\"\n",
    "Define function 'determinant_2x2' which computes determinant of 2x2 matrix\n",
    "\n",
    "PARAMS:\n",
    "    matrix (numpy.ndarray) - matrix to compute determinant\n",
    "RETURN:\n",
    "    det (float) - matrix determinant\n",
    "\n",
    "Do not forget to check the shape of  the input matrix.\n",
    "\"\"\"\n"
   ]
  },
  {
   "cell_type": "code",
   "execution_count": null,
   "metadata": {
    "ExecuteTime": {
     "end_time": "2020-08-05T15:09:32.397142Z",
     "start_time": "2020-08-05T15:09:32.388533Z"
    }
   },
   "outputs": [],
   "source": [
    "def determinant_2x2(matrix):\n",
    "    if not shape_2x2(matrix):\n",
    "        return None\n",
    "    \n",
    "    return matrix[0,0]*matrix[1,1] - matrix[0,1]*matrix[1,0]"
   ]
  },
  {
   "cell_type": "code",
   "execution_count": null,
   "metadata": {},
   "outputs": [],
   "source": []
  },
  {
   "cell_type": "markdown",
   "metadata": {
    "ExecuteTime": {
     "end_time": "2020-01-30T08:49:33.653982Z",
     "start_time": "2020-01-30T08:49:33.640536Z"
    }
   },
   "source": [
    "**Task:** call the function 'determinant_2x2' with matrix 'A' "
   ]
  },
  {
   "cell_type": "code",
   "execution_count": null,
   "metadata": {
    "ExecuteTime": {
     "end_time": "2020-08-05T15:09:32.409298Z",
     "start_time": "2020-08-05T15:09:32.402403Z"
    }
   },
   "outputs": [],
   "source": [
    "det = determinant_2x2(A)\n",
    "det"
   ]
  },
  {
   "cell_type": "markdown",
   "metadata": {
    "ExecuteTime": {
     "end_time": "2020-01-30T08:49:33.965268Z",
     "start_time": "2020-01-30T08:49:33.955633Z"
    }
   },
   "source": [
    "**Task:** compute the eigenvectors, eigenvalues of matrix 'A' with numpy"
   ]
  },
  {
   "cell_type": "code",
   "execution_count": null,
   "metadata": {
    "ExecuteTime": {
     "end_time": "2020-08-05T15:09:32.425833Z",
     "start_time": "2020-08-05T15:09:32.413752Z"
    }
   },
   "outputs": [],
   "source": [
    "np_eigenvals, np_V = np.linalg.eig(A)"
   ]
  },
  {
   "cell_type": "markdown",
   "metadata": {
    "ExecuteTime": {
     "end_time": "2020-01-30T08:49:34.161648Z",
     "start_time": "2020-01-30T08:49:34.150747Z"
    }
   },
   "source": [
    "**Task:** print eigenvalues"
   ]
  },
  {
   "cell_type": "code",
   "execution_count": null,
   "metadata": {
    "ExecuteTime": {
     "end_time": "2020-08-05T15:09:32.436739Z",
     "start_time": "2020-08-05T15:09:32.428307Z"
    }
   },
   "outputs": [],
   "source": [
    "np_eigenvals"
   ]
  },
  {
   "cell_type": "markdown",
   "metadata": {
    "ExecuteTime": {
     "end_time": "2020-01-30T08:49:34.442956Z",
     "start_time": "2020-01-30T08:49:34.426399Z"
    }
   },
   "source": [
    "**Task:** print eigenvectors"
   ]
  },
  {
   "cell_type": "code",
   "execution_count": null,
   "metadata": {
    "ExecuteTime": {
     "end_time": "2020-08-05T15:09:32.447824Z",
     "start_time": "2020-08-05T15:09:32.439829Z"
    }
   },
   "outputs": [],
   "source": [
    "np_V"
   ]
  },
  {
   "cell_type": "markdown",
   "metadata": {},
   "source": [
    "**Task:**"
   ]
  },
  {
   "cell_type": "code",
   "execution_count": null,
   "metadata": {
    "ExecuteTime": {
     "end_time": "2020-08-05T15:09:56.072023Z",
     "start_time": "2020-08-05T15:09:56.064253Z"
    }
   },
   "outputs": [],
   "source": [
    "\"\"\"\n",
    "Define function 'eig_2x2' which computes eigenvectors and eigenvalues of 2x2 matrix\n",
    "\n",
    "PARAMS:\n",
    "    matrix (numpy.ndarray) - matrix to perform decomposition\n",
    "RETURN:\n",
    "    eigenvalues, eigenvectors (tuple) - eigenvalues, eigenvectors as numpy.ndarrays\n",
    "\n",
    "Do not use np.linalg.eig function!\n",
    "Use 'shape_2x2' and 'determinant_2x2' functions. \n",
    "Be carefull, eigenvalues and eigenvectors could contain complex numbers.\n",
    "\n",
    "How to compute eigenvalues of 2x2 matrix:\n",
    "https://yutsumura.com/express-the-eigenvalues-of-a-2-by-2-matrix-in-terms-of-the-trace-and-determinant/\n",
    "\"\"\""
   ]
  },
  {
   "cell_type": "code",
   "execution_count": null,
   "metadata": {
    "ExecuteTime": {
     "end_time": "2020-08-05T15:09:32.471753Z",
     "start_time": "2020-08-05T15:09:32.462134Z"
    }
   },
   "outputs": [],
   "source": [
    "def eig_2x2(matrix):\n",
    "    if not shape_2x2(matrix):\n",
    "        return None\n",
    "    \n",
    "    # sum of matrix diagonal\n",
    "    matrix_trace = matrix.trace()\n",
    "    \n",
    "    # 0j because np.sqrt:  np.sqrt(-1) => nan, np.sqrt(-1 + 0j) => 1j\n",
    "    inside_sqrt = matrix_trace**2 - 4*determinant_2x2(matrix) + 0j\n",
    "\n",
    "    eigenvalues = [((matrix_trace - np.sqrt(inside_sqrt))/2),\n",
    "                   ((matrix_trace + np.sqrt(inside_sqrt))/2)]\n",
    "    \n",
    "    # only real part of number if imaginary part is equal to zero\n",
    "    eigenvalues = np.sort(np.array([v.real if v.imag == 0 else v for v in eigenvalues]))\n",
    "    \n",
    "    eigenvectors = []\n",
    "    for eigv in eigenvalues:\n",
    "        matrix_minus_eig = matrix - eigv*np.eye(matrix.shape[0])\n",
    "        \n",
    "        # matrix[0,0]*x + matrix[0,1]*y = 0 \n",
    "        # possible solution => x= -matrix[0,1], y= matrix[0,0]\n",
    "        # possible solution => x= matrix[0,1], y= -matrix[0,0]\n",
    "        eigenvector = np.array([-matrix_minus_eig[0,1], matrix_minus_eig[0,0]])\n",
    "        \n",
    "        # vector with lenght of 1 \n",
    "        eigenvector_norm = eigenvector/np.linalg.norm(eigenvector)\n",
    "        \n",
    "        eigenvectors.append(eigenvector_norm)\n",
    "    \n",
    "    # vectors as columns\n",
    "    eigenvectors = np.array(eigenvectors).T\n",
    "    \n",
    "    return eigenvalues, eigenvectors "
   ]
  },
  {
   "cell_type": "code",
   "execution_count": null,
   "metadata": {},
   "outputs": [],
   "source": []
  },
  {
   "cell_type": "markdown",
   "metadata": {
    "ExecuteTime": {
     "end_time": "2020-01-30T08:49:35.033600Z",
     "start_time": "2020-01-30T08:49:35.026479Z"
    }
   },
   "source": [
    "**Task:** call the function 'deig_2x2' with matrix 'A' "
   ]
  },
  {
   "cell_type": "code",
   "execution_count": null,
   "metadata": {
    "ExecuteTime": {
     "end_time": "2020-08-05T15:09:32.481337Z",
     "start_time": "2020-08-05T15:09:32.474745Z"
    }
   },
   "outputs": [],
   "source": [
    "eigenvals, V = eig_2x2(A)"
   ]
  },
  {
   "cell_type": "markdown",
   "metadata": {
    "ExecuteTime": {
     "end_time": "2020-01-30T08:49:35.359324Z",
     "start_time": "2020-01-30T08:49:35.344962Z"
    }
   },
   "source": [
    "**Task:** compare the result with numpy function (to comparison use np.allclose function)"
   ]
  },
  {
   "cell_type": "code",
   "execution_count": null,
   "metadata": {
    "ExecuteTime": {
     "end_time": "2020-08-05T15:09:32.491596Z",
     "start_time": "2020-08-05T15:09:32.484543Z"
    }
   },
   "outputs": [],
   "source": [
    "print(np.allclose(np_eigenvals, eigenvals))\n",
    "print(np.allclose(np_V, V))"
   ]
  },
  {
   "cell_type": "markdown",
   "metadata": {
    "ExecuteTime": {
     "end_time": "2020-01-30T08:49:35.767409Z",
     "start_time": "2020-01-30T08:49:35.762382Z"
    }
   },
   "source": [
    "**Task:** define matrix B = np.array([[0,1],[-1,0]]) "
   ]
  },
  {
   "cell_type": "code",
   "execution_count": null,
   "metadata": {
    "ExecuteTime": {
     "end_time": "2020-08-05T15:09:32.499338Z",
     "start_time": "2020-08-05T15:09:32.494311Z"
    }
   },
   "outputs": [],
   "source": [
    "B = np.array([[0,1],[-1,0]]) "
   ]
  },
  {
   "cell_type": "markdown",
   "metadata": {
    "ExecuteTime": {
     "end_time": "2020-01-30T08:49:36.107561Z",
     "start_time": "2020-01-30T08:49:36.101971Z"
    }
   },
   "source": [
    "**Task:** compute eigenvalues and eigevectors of matrix 'B' with numpy and with 'eig_2x2' function"
   ]
  },
  {
   "cell_type": "code",
   "execution_count": null,
   "metadata": {
    "ExecuteTime": {
     "end_time": "2020-08-05T15:09:32.509399Z",
     "start_time": "2020-08-05T15:09:32.503136Z"
    }
   },
   "outputs": [],
   "source": [
    "np_eigenvals, np_V = np.linalg.eig(B)\n",
    "eigenvals, V = eig_2x2(B)"
   ]
  },
  {
   "cell_type": "markdown",
   "metadata": {
    "ExecuteTime": {
     "end_time": "2020-01-30T08:49:36.483358Z",
     "start_time": "2020-01-30T08:49:36.474496Z"
    }
   },
   "source": [
    "**Task:** compare the results with numpy function (to comparison use np.allclose function)"
   ]
  },
  {
   "cell_type": "code",
   "execution_count": null,
   "metadata": {
    "ExecuteTime": {
     "end_time": "2020-08-05T15:09:32.519216Z",
     "start_time": "2020-08-05T15:09:32.512633Z"
    }
   },
   "outputs": [],
   "source": [
    "print(np.allclose(np_eigenvals, eigenvals))\n",
    "print(np.allclose(np_V, V))"
   ]
  },
  {
   "cell_type": "markdown",
   "metadata": {
    "ExecuteTime": {
     "end_time": "2020-01-30T08:49:36.913277Z",
     "start_time": "2020-01-30T08:49:36.893341Z"
    }
   },
   "source": [
    "**Task:** print eigenvalues and eigenvectors and try to explain why the solutions is different"
   ]
  },
  {
   "cell_type": "code",
   "execution_count": null,
   "metadata": {
    "ExecuteTime": {
     "end_time": "2020-08-05T15:09:32.529936Z",
     "start_time": "2020-08-05T15:09:32.523638Z"
    }
   },
   "outputs": [],
   "source": [
    "print(np_eigenvals)\n",
    "print(eigenvals)\n",
    "print(np_V)\n",
    "print(V)"
   ]
  },
  {
   "cell_type": "code",
   "execution_count": null,
   "metadata": {},
   "outputs": [],
   "source": []
  }
 ],
 "metadata": {
  "kernelspec": {
   "display_name": "Python 3",
   "language": "python",
   "name": "python3"
  },
  "language_info": {
   "codemirror_mode": {
    "name": "ipython",
    "version": 3
   },
   "file_extension": ".py",
   "mimetype": "text/x-python",
   "name": "python",
   "nbconvert_exporter": "python",
   "pygments_lexer": "ipython3",
   "version": "3.7.6"
  },
  "toc": {
   "base_numbering": 1,
   "nav_menu": {},
   "number_sections": true,
   "sideBar": true,
   "skip_h1_title": false,
   "title_cell": "Table of Contents",
   "title_sidebar": "Contents",
   "toc_cell": false,
   "toc_position": {},
   "toc_section_display": true,
   "toc_window_display": false
  },
  "varInspector": {
   "cols": {
    "lenName": 16,
    "lenType": 16,
    "lenVar": 40
   },
   "kernels_config": {
    "python": {
     "delete_cmd_postfix": "",
     "delete_cmd_prefix": "del ",
     "library": "var_list.py",
     "varRefreshCmd": "print(var_dic_list())"
    },
    "r": {
     "delete_cmd_postfix": ") ",
     "delete_cmd_prefix": "rm(",
     "library": "var_list.r",
     "varRefreshCmd": "cat(var_dic_list()) "
    }
   },
   "types_to_exclude": [
    "module",
    "function",
    "builtin_function_or_method",
    "instance",
    "_Feature"
   ],
   "window_display": false
  }
 },
 "nbformat": 4,
 "nbformat_minor": 4
}
